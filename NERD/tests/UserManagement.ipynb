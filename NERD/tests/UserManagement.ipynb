{
 "cells": [
  {
   "cell_type": "code",
   "execution_count": 35,
   "metadata": {},
   "outputs": [],
   "source": [
    "#code\n",
    "from flask import Flask, request, redirect, session, send_from_directory, Request\n",
    "from functools import wraps"
   ]
  },
  {
   "cell_type": "code",
   "execution_count": 36,
   "metadata": {},
   "outputs": [],
   "source": [
    "#code\n",
    "import json"
   ]
  },
  {
   "cell_type": "code",
   "execution_count": 37,
   "metadata": {},
   "outputs": [],
   "source": [
    "app = Flask(__name__)\n",
    "\n",
    "\n",
    "\n",
    "@app.route('/')\n",
    "def homepage():\n",
    "    return 'Homepage'\n",
    "\n",
    "@app.route('/page')\n",
    "def page():\n",
    "    return 'Some page'\n"
   ]
  },
  {
   "cell_type": "code",
   "execution_count": 27,
   "metadata": {},
   "outputs": [
    {
     "data": {
      "text/plain": [
       "Map([<Rule '/page' (GET, HEAD, OPTIONS) -> page>,\n",
       " <Rule '/' (GET, HEAD, OPTIONS) -> homepage>,\n",
       " <Rule '/static/<filename>' (GET, HEAD, OPTIONS) -> static>])"
      ]
     },
     "execution_count": 27,
     "metadata": {},
     "output_type": "execute_result"
    }
   ],
   "source": [
    "app.url_map"
   ]
  },
  {
   "cell_type": "code",
   "execution_count": 38,
   "metadata": {},
   "outputs": [],
   "source": [
    "#code\n",
    "class LoginRequired:\n",
    "    def __init__(self, app, usersjson='nerdlogin.json'):\n",
    "        url_map = app.url_map\n",
    "        self.hooked_endpoints = [r.rule for r in url_map.iter_rules()]\n",
    "        print(self.hooked_endpoints)\n",
    "        self.app = app\n",
    "        self.app.config[\"SECRET_KEY\"] = \"a very hard to guess secret key\"\n",
    "        self._init_all()\n",
    "        \n",
    "        self.usersjson = usersjson\n",
    "        if usersjson:\n",
    "            try:\n",
    "                with open(usersjson) as inp:\n",
    "                    self.users = json.load(inp)\n",
    "            except Exception as e:\n",
    "                self.users = {}\n",
    "        else:\n",
    "            self.users = {}\n",
    "        \n",
    "    def hook(self):\n",
    "        print('endpoint: %s, url: %s, path: %s' % (\n",
    "        request.endpoint,\n",
    "        request.url,\n",
    "        request.path))\n",
    "        if request.path in self.hooked_endpoints:\n",
    "            loggedin = self._is_user_logged_in(session)\n",
    "            if not loggedin:\n",
    "                return redirect('/login')\n",
    "            \n",
    "    \n",
    "    def _init_all(self):\n",
    "        self.app.before_request(self.hook)\n",
    "        self.app.add_url_rule('/login', 'login', self.login, methods=['GET', 'POST'])\n",
    "        self.app.add_url_rule('/register', 'register', self.register, methods=['POST'])\n",
    "        self.app.add_url_rule('/logout', 'logout', self.logout, methods=['GET'])\n",
    "        \n",
    "    \n",
    "    def login(self):\n",
    "        if request.method == 'GET':\n",
    "            return send_from_directory('../html_templates/', 'usermanagement.html')\n",
    "\n",
    "        elif request.method == 'POST':\n",
    "            data = json.loads(request.data)\n",
    "            validation = self.validate_user(data)\n",
    "            if validation == 'Valid User':\n",
    "                session['username'] = data['username']\n",
    "                return {\n",
    "                    'redirect': '/'\n",
    "                }\n",
    "            else:\n",
    "                return {\n",
    "                    'error': validation\n",
    "                }\n",
    "\n",
    "    def logout(self):\n",
    "        session.pop('username', None)\n",
    "        return redirect('/login')\n",
    "    \n",
    "    def register(self):\n",
    "        data = json.loads(request.data)\n",
    "        username = data.get('username', None)\n",
    "        password = data.get('password', None)\n",
    "        print(data)\n",
    "        if username in self.users:\n",
    "            return {\n",
    "                'error': 'User already exists'\n",
    "            }\n",
    "        \n",
    "        else:\n",
    "            self.users[username] = {\n",
    "                'password': password\n",
    "            }\n",
    "            session['username'] = username\n",
    "            with open(self.usersjson, 'w') as out:\n",
    "                json.dump(self.users, out)\n",
    "            \n",
    "            return {\n",
    "                    'redirect': '/'\n",
    "            }\n",
    "            \n",
    "            \n",
    "    def validate_user(self, userd):\n",
    "        user = self.users.get(userd['username'], None)\n",
    "        if user:\n",
    "            password = user['password']\n",
    "            if password == userd['password']:\n",
    "                return 'Valid User'\n",
    "            else:\n",
    "                return 'Wrong Password'\n",
    "        else:\n",
    "            return 'Invalid Username'\n",
    "\n",
    "\n",
    "    def _is_user_logged_in(self, session):\n",
    "        if 'username' not in session:\n",
    "            return False\n",
    "        return True\n"
   ]
  },
  {
   "cell_type": "code",
   "execution_count": 29,
   "metadata": {},
   "outputs": [
    {
     "name": "stdout",
     "output_type": "stream",
     "text": [
      "['/page', '/', '/static/<path:filename>']\n"
     ]
    }
   ],
   "source": [
    "lr = LoginRequired(app)"
   ]
  },
  {
   "cell_type": "code",
   "execution_count": 30,
   "metadata": {},
   "outputs": [
    {
     "name": "stdout",
     "output_type": "stream",
     "text": [
      " * Serving Flask app \"__main__\" (lazy loading)\n",
      " * Environment: production\n",
      "   WARNING: This is a development server. Do not use it in a production deployment.\n",
      "   Use a production WSGI server instead.\n",
      " * Debug mode: off\n"
     ]
    },
    {
     "name": "stderr",
     "output_type": "stream",
     "text": [
      " * Running on http://127.0.0.1:5152/ (Press CTRL+C to quit)\n",
      "127.0.0.1 - - [17/Jun/2020 13:17:57] \"\u001b[37mGET / HTTP/1.1\u001b[0m\" 200 -\n"
     ]
    },
    {
     "name": "stdout",
     "output_type": "stream",
     "text": [
      "endpoint: homepage, url: http://localhost:5152/, path: /\n"
     ]
    },
    {
     "name": "stderr",
     "output_type": "stream",
     "text": [
      "127.0.0.1 - - [17/Jun/2020 13:18:03] \"\u001b[32mGET /logout HTTP/1.1\u001b[0m\" 302 -\n"
     ]
    },
    {
     "name": "stdout",
     "output_type": "stream",
     "text": [
      "endpoint: logout, url: http://localhost:5152/logout, path: /logout\n"
     ]
    },
    {
     "name": "stderr",
     "output_type": "stream",
     "text": [
      "127.0.0.1 - - [17/Jun/2020 13:19:16] \"\u001b[32mGET / HTTP/1.1\u001b[0m\" 302 -\n"
     ]
    },
    {
     "name": "stdout",
     "output_type": "stream",
     "text": [
      "endpoint: homepage, url: http://localhost:5152/, path: /\n"
     ]
    },
    {
     "name": "stderr",
     "output_type": "stream",
     "text": [
      "127.0.0.1 - - [17/Jun/2020 13:19:28] \"\u001b[37mPOST /login HTTP/1.1\u001b[0m\" 200 -\n"
     ]
    },
    {
     "name": "stdout",
     "output_type": "stream",
     "text": [
      "endpoint: login, url: http://localhost:5152/login, path: /login\n"
     ]
    },
    {
     "name": "stderr",
     "output_type": "stream",
     "text": [
      "127.0.0.1 - - [17/Jun/2020 13:19:34] \"\u001b[37mPOST /login HTTP/1.1\u001b[0m\" 200 -\n"
     ]
    },
    {
     "name": "stdout",
     "output_type": "stream",
     "text": [
      "endpoint: login, url: http://localhost:5152/login, path: /login\n"
     ]
    },
    {
     "name": "stderr",
     "output_type": "stream",
     "text": [
      "127.0.0.1 - - [17/Jun/2020 13:19:58] \"\u001b[37mPOST /login HTTP/1.1\u001b[0m\" 200 -\n",
      "127.0.0.1 - - [17/Jun/2020 13:19:58] \"\u001b[37mGET / HTTP/1.1\u001b[0m\" 200 -\n"
     ]
    },
    {
     "name": "stdout",
     "output_type": "stream",
     "text": [
      "endpoint: login, url: http://localhost:5152/login, path: /login\n",
      "endpoint: homepage, url: http://localhost:5152/, path: /\n"
     ]
    },
    {
     "name": "stderr",
     "output_type": "stream",
     "text": [
      "127.0.0.1 - - [17/Jun/2020 13:52:28] \"\u001b[37mGET /login HTTP/1.1\u001b[0m\" 200 -\n"
     ]
    },
    {
     "name": "stdout",
     "output_type": "stream",
     "text": [
      "endpoint: login, url: http://localhost:5152/login, path: /login\n"
     ]
    },
    {
     "name": "stderr",
     "output_type": "stream",
     "text": [
      "127.0.0.1 - - [17/Jun/2020 13:52:32] \"\u001b[37mGET / HTTP/1.1\u001b[0m\" 200 -\n"
     ]
    },
    {
     "name": "stdout",
     "output_type": "stream",
     "text": [
      "endpoint: homepage, url: http://localhost:5152/, path: /\n"
     ]
    },
    {
     "name": "stderr",
     "output_type": "stream",
     "text": [
      "127.0.0.1 - - [17/Jun/2020 13:52:37] \"\u001b[32mGET /logout HTTP/1.1\u001b[0m\" 302 -\n"
     ]
    },
    {
     "name": "stdout",
     "output_type": "stream",
     "text": [
      "endpoint: logout, url: http://localhost:5152/logout, path: /logout\n"
     ]
    }
   ],
   "source": [
    "app.run(port=5152)"
   ]
  },
  {
   "cell_type": "code",
   "execution_count": 14,
   "metadata": {},
   "outputs": [
    {
     "data": {
      "text/plain": [
       "{'someemail@email.com': {'password': 'asdf'}}"
      ]
     },
     "execution_count": 14,
     "metadata": {},
     "output_type": "execute_result"
    }
   ],
   "source": [
    "lr.users"
   ]
  },
  {
   "cell_type": "code",
   "execution_count": null,
   "metadata": {},
   "outputs": [],
   "source": []
  }
 ],
 "metadata": {
  "kernelspec": {
   "display_name": "Python 3",
   "language": "python",
   "name": "python3"
  },
  "language_info": {
   "codemirror_mode": {
    "name": "ipython",
    "version": 3
   },
   "file_extension": ".py",
   "mimetype": "text/x-python",
   "name": "python",
   "nbconvert_exporter": "python",
   "pygments_lexer": "ipython3",
   "version": "3.6.0"
  }
 },
 "nbformat": 4,
 "nbformat_minor": 2
}
